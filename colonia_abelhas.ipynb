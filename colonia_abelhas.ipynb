{
 "cells": [
  {
   "cell_type": "code",
   "execution_count": 191,
   "metadata": {},
   "outputs": [],
   "source": [
    "import math\n",
    "import numpy as np\n",
    "from enum import Enum\n",
    "import matplotlib.pyplot as plt"
   ]
  },
  {
   "cell_type": "code",
   "execution_count": 192,
   "metadata": {},
   "outputs": [],
   "source": [
    "#Função Sphere\n",
    "def sphere(vetor, limite_inferior=-100, limite_superior=100):\n",
    "  resultado = 0\n",
    "  \n",
    "  for i in vetor:\n",
    "    resultado += i**2\n",
    "  \n",
    "  return resultado\n",
    "\n",
    "#Função rastrigin\n",
    "def rastrigin(vetor, limite_inferior=-30, limite_superior=30):\n",
    "  resultado = 0\n",
    "  \n",
    "  for i in vetor:\n",
    "    x = 2*math.pi*i\n",
    "    resultado += 10 + ((i**2) - 10 * math.cos(x))\n",
    "    \n",
    "\n",
    "  return resultado \n",
    "\n",
    "#Função rosenbrock\n",
    "def rosenbrock(vetor, limite_inferior=-5.12, limite_superior=5.12):\n",
    "  resultado = 0\n",
    "  \n",
    "  for i in range(0,(len(vetor)-1)):\n",
    "    resultado += 100*(vetor[i+1] - vetor[i]**2)**2 + (vetor[i] - 1)**2\n",
    "    \n",
    "  return resultado"
   ]
  },
  {
   "cell_type": "code",
   "execution_count": null,
   "metadata": {},
   "outputs": [],
   "source": []
  },
  {
   "cell_type": "code",
   "execution_count": null,
   "metadata": {},
   "outputs": [],
   "source": []
  },
  {
   "cell_type": "code",
   "execution_count": 193,
   "metadata": {},
   "outputs": [],
   "source": [
    "# E se no cálculo de posição para a abelha, o valor sair dos limites do espaço de busca?\n",
    "\n",
    "class AlgoritmoColoniaAbelhas:\n",
    "    def __init__(self, funcao, limite_inferior, limite_superior, qtd_ciclos, tamanho_colonia, dimensao, fator_abandono):\n",
    "        self.funcao = funcao\n",
    "        self.limite_inferior = limite_inferior\n",
    "        self.limite_superior = limite_superior\n",
    "        self.qtd_ciclos = qtd_ciclos\n",
    "        self.tamanho_colonia = tamanho_colonia\n",
    "        self.dimensao = dimensao\n",
    "        self.fator_abandono = fator_abandono\n",
    "        self.fontes_alimentacao = np.random.uniform(low=limite_inferior, high=limite_superior, size=(tamanho_colonia//2, dimensao))\n",
    "        self.abelhas_empregadas = []\n",
    "        self.abelhas_observadoras = []\n",
    "        self.tentativas = np.zeros(tamanho_colonia//2)\n",
    "        self.historico_fitness = []\n",
    "        self.melhor_global = float('inf')\n",
    "        self.melhor_fonte_global = None\n",
    "\n",
    "\n",
    "    def calcular_fitness_fontes(self):\n",
    "        return np.array([self.funcao(fonte) for fonte in self.fontes_alimentacao])\n",
    "\n",
    "    def calcular_fitness(self, vetor):\n",
    "        return self.funcao(vetor)\n",
    "    \n",
    "    def realizar_ciclo(self):\n",
    "        for ciclo in range(self.qtd_ciclos):\n",
    "            self.atribuir_posicao_empregadas(ciclo)\n",
    "            self.atribuir_posicao_observadoras(self.calcular_fitness_fontes())\n",
    "            self.atribuir_posicao_exploradoras()\n",
    "            fitness_atual = self.calcular_fitness_fontes()\n",
    "            melhor_fitness_iteracao = np.min(fitness_atual)\n",
    "            indice_melhor_fitness = np.argmin(fitness_atual)\n",
    "            if melhor_fitness_iteracao < self.melhor_global:\n",
    "                self.melhor_global = melhor_fitness_iteracao\n",
    "                self.melhor_fonte_global = self.fontes_alimentacao[indice_melhor_fitness].copy()\n",
    "            self.historico_fitness.append(melhor_fitness_iteracao)\n",
    "            if ciclo == 0 or ciclo == self.qtd_ciclos - 1:\n",
    "                print(f\"Geração {ciclo+1} | Melhor solução: {self.melhor_fonte_global} | Fitness: {np.min(self.historico_fitness)} | Histórico Fitness: {self.historico_fitness}\")\n",
    "            \n",
    "    def atribuir_posicao_empregadas(self, numero_ciclo):\n",
    "        if numero_ciclo == 0:\n",
    "            self.abelhas_empregadas = self.fontes_alimentacao\n",
    "        self.abelhas_empregadas = self.atualizar_posicao(self.abelhas_empregadas)\n",
    "\n",
    "    def atribuir_posicao_observadoras(self, fitness):\n",
    "        total_fitness_invertido = np.sum([1 / fitness[i] for i in range(self.tamanho_colonia // 2)])\n",
    "        proporcoes_fitness = []\n",
    "        self.abelhas_observadoras = [] # Eu sempre tenho que começar assim? Ou seja, ela não se baseia na posição do ciclo passado. Sempre começa vazia.\n",
    "        for i in range(self.tamanho_colonia // 2):\n",
    "            proporcoes_fitness.append(1 / fitness[i] / total_fitness_invertido)\n",
    "        for i in range(self.tamanho_colonia // 2):\n",
    "            probabilidade_random = np.random.rand()\n",
    "            probabilidade_acumulativa = 0\n",
    "            for posicao_abelha, proporcao in zip(self.fontes_alimentacao, proporcoes_fitness):\n",
    "                probabilidade_acumulativa += proporcao\n",
    "                if probabilidade_random <= probabilidade_acumulativa:\n",
    "                    self.abelhas_observadoras.append(posicao_abelha)\n",
    "                    break\n",
    "        self.abelhas_observadoras = self.atualizar_posicao(self.abelhas_observadoras)\n",
    "\n",
    "    def atribuir_posicao_exploradoras(self):\n",
    "        for i in range(len(self.abelhas_empregadas)):\n",
    "            if self.tentativas[i] > self.fator_abandono:\n",
    "                self.fontes_alimentacao[i] = np.random.uniform(low=self.limite_inferior, high=self.limite_superior, size=self.dimensao)\n",
    "                self.abelhas_empregadas[i] = self.fontes_alimentacao[i]\n",
    "                self.tentativas[i] = 0\n",
    "\n",
    "    def atualizar_posicao(self, abelhas):\n",
    "        for i in range(len(abelhas)):\n",
    "            posicao_calculada = self.calcular_posicao(i)\n",
    "            if self.calcular_fitness(posicao_calculada) < self.calcular_fitness(abelhas[i]):\n",
    "                abelhas[i] = posicao_calculada\n",
    "                self.fontes_alimentacao[i] = posicao_calculada\n",
    "                self.tentativas[i] = 0\n",
    "            else:\n",
    "                self.tentativas[i] += 1\n",
    "        return abelhas\n",
    "    \n",
    "    def calcular_posicao(self, indice_fonte):\n",
    "        fonte = self.fontes_alimentacao[indice_fonte]\n",
    "        rand_i = np.random.randint(low=0, high=len(fonte))\n",
    "        rand_k = np.random.randint(low=0, high=len(self.fontes_alimentacao))\n",
    "        while indice_fonte != rand_k:\n",
    "            rand_k = np.random.randint(low=0, high=len(self.fontes_alimentacao))\n",
    "        fonte_aleatoria = self.fontes_alimentacao[rand_k]\n",
    "        rand_phi = np.random.randint(low=-1, high=2)\n",
    "        valor_nova_posicao = fonte[rand_i] + rand_phi * (fonte[rand_i] - fonte_aleatoria[rand_i])\n",
    "        fonte[rand_i] = valor_nova_posicao\n",
    "        return fonte\n",
    "\n",
    "    \n",
    "    def plotar_grafico_convergencia(self): \n",
    "        valores_x = list(range(self.qtd_ciclos))\n",
    "        plt.figure(figsize=(10, 6))\n",
    "        plt.plot(valores_x, self.historico_fitness, marker='o', linestyle='-', color='b', label='Fitness')\n",
    "        plt.xlabel('Ciclo')\n",
    "        plt.ylabel('Melhor Fitness')\n",
    "        plt.title('Melhor Fitness vs. Ciclo')\n",
    "        plt.grid(True)\n",
    "        plt.legend()\n",
    "        plt.show()"
   ]
  },
  {
   "cell_type": "code",
   "execution_count": 194,
   "metadata": {},
   "outputs": [
    {
     "name": "stdout",
     "output_type": "stream",
     "text": [
      "Geração 1 | Melhor solução: [-42.95884308 -31.92391633  71.49338513 -13.18252551 -27.34089066\n",
      " -55.53461109  18.63304024  51.06100309 -22.17778875  67.79460201] | Fitness: 20023.677661524573 | Histórico Fitness: [20023.677661524573]\n",
      "Geração 30 | Melhor solução: [ 22.43189179 -31.43222788   6.59243299 -54.74446567  34.77099043\n",
      "   2.81922486 -19.83183865 -33.43523799  32.1189461  -76.04557006] | Fitness: 14074.333604463585 | Histórico Fitness: [20023.677661524573, 20023.677661524573, 20023.677661524573, 20023.677661524573, 20023.677661524573, 20023.677661524573, 20023.677661524573, 20023.677661524573, 20023.677661524573, 18440.354112294975, 18440.354112294975, 18440.354112294975, 18440.354112294975, 18440.354112294975, 18440.354112294975, 18440.354112294975, 18440.354112294975, 18440.354112294975, 18440.354112294975, 14074.333604463585, 14074.333604463585, 14074.333604463585, 14074.333604463585, 14074.333604463585, 14074.333604463585, 14074.333604463585, 14074.333604463585, 14074.333604463585, 14074.333604463585, 14074.333604463585]\n"
     ]
    },
    {
     "data": {
      "image/png": "[encoded data removed]",
      "text/plain": [
       "<Figure size 1000x600 with 1 Axes>"
      ]
     },
     "metadata": {},
     "output_type": "display_data"
    }
   ],
   "source": [
    "aca0 = AlgoritmoColoniaAbelhas(funcao=sphere, limite_inferior=-100, limite_superior=100, qtd_ciclos=30, tamanho_colonia=30, dimensao=10, fator_abandono=5)\n",
    "aca0.realizar_ciclo()\n",
    "aca0.plotar_grafico_convergencia()"
   ]
  },
  {
   "cell_type": "code",
   "execution_count": 196,
   "metadata": {},
   "outputs": [
    {
     "data": {
      "text/plain": [
       "14074.333605307009"
      ]
     },
     "execution_count": 196,
     "metadata": {},
     "output_type": "execute_result"
    }
   ],
   "source": [
    "'''\n",
    "for i in range(len(self.fontes_alimentacao)):\n",
    "            posicao_calculada = self.calcular_posicao(i)\n",
    "            if self.calcular_fitness(posicao_calculada) < self.calcular_fitness(self.abelhas_empregadas[i]):\n",
    "                self.abelhas_empregadas[i] = posicao_calculada\n",
    "                self.fontes_alimentacao = posicao_calculada\n",
    "                self.tentativas[i] = 0\n",
    "            else:\n",
    "                self.tentativas[i] += 1\n",
    "'''\n",
    "aca0.calcular_fitness([ 22.43189179, -31.43222788,   6.59243299, -54.74446567,  34.77099043,\n",
    "   2.81922486, -19.83183865, -33.43523799,  32.1189461,  -76.04557006])"
   ]
  }
 ],
 "metadata": {
  "kernelspec": {
   "display_name": "Python 3",
   "language": "python",
   "name": "python3"
  },
  "language_info": {
   "codemirror_mode": {
    "name": "ipython",
    "version": 3
   },
   "file_extension": ".py",
   "mimetype": "text/x-python",
   "name": "python",
   "nbconvert_exporter": "python",
   "pygments_lexer": "ipython3",
   "version": "3.12.3"
  }
 },
 "nbformat": 4,
 "nbformat_minor": 2
}
